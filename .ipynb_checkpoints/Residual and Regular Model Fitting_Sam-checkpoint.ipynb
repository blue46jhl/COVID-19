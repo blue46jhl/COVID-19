{
 "cells": [
  {
   "cell_type": "code",
   "execution_count": 1,
   "metadata": {},
   "outputs": [],
   "source": [
    "import pandas as pd\n",
    "import matplotlib.pyplot as plt\n",
    "import matplotlib.ticker as ticker\n",
    "import numpy as np\n",
    "from datetime import date, timedelta, datetime\n",
    "import matplotlib.dates as mdates\n",
    "import math\n",
    "import requests\n",
    "import io\n",
    "%matplotlib inline\n",
    "\n",
    "from scipy.integrate import odeint\n",
    "import lmfit"
   ]
  },
  {
   "cell_type": "code",
   "execution_count": 2,
   "metadata": {},
   "outputs": [],
   "source": [
    "# Fetching Live Data from CSSE \n",
    "url_confirm=\"https://raw.githubusercontent.com/CSSEGISandData/COVID-19/master/csse_covid_19_data/csse_covid_19_time_series/time_series_covid19_confirmed_US.csv\"\n",
    "url_death = \"https://raw.githubusercontent.com/CSSEGISandData/COVID-19/master/csse_covid_19_data/csse_covid_19_time_series/time_series_covid19_deaths_US.csv\"\n",
    "s_confirm = requests.get(url_confirm).content\n",
    "s_death = requests.get(url_death).content\n",
    "confirmed_df = pd.read_csv(io.StringIO(s_confirm.decode('utf-8')))\n",
    "deaths_df = pd.read_csv(io.StringIO(s_death.decode('utf-8')))"
   ]
  },
  {
   "cell_type": "code",
   "execution_count": 3,
   "metadata": {},
   "outputs": [],
   "source": [
    "confirmed_df.rename(columns={\"Admin2\": \"County\"}, inplace=True)\n",
    "deaths_df.rename(columns={\"Admin2\": \"County\"}, inplace=True)"
   ]
  },
  {
   "cell_type": "markdown",
   "metadata": {},
   "source": [
    "## Data from covidtracking.com"
   ]
  },
  {
   "cell_type": "code",
   "execution_count": 4,
   "metadata": {},
   "outputs": [],
   "source": [
    "url_newyork_covidtracking = \"https://covidtracking.com/api/v1/states/NY/daily.csv\"\n",
    "newyork = requests.get(url_newyork_covidtracking).content"
   ]
  },
  {
   "cell_type": "code",
   "execution_count": 5,
   "metadata": {},
   "outputs": [],
   "source": [
    "newyork_df = pd.read_csv(io.StringIO(newyork.decode('utf-8')))"
   ]
  },
  {
   "cell_type": "code",
   "execution_count": 6,
   "metadata": {},
   "outputs": [],
   "source": [
    "newyork_df[\"date\"] = newyork_df[\"date\"].apply(lambda x: datetime.strptime(str(x),\"%Y%m%d\"))"
   ]
  },
  {
   "cell_type": "code",
   "execution_count": 10,
   "metadata": {
    "scrolled": true
   },
   "outputs": [],
   "source": [
    "# plt.plot(newyork_df[\"date\"], np.array([newyork_df[\"positiveIncrease\"],newyork_df[\"totalTestResultsIncrease\"]]).T)\n",
    "# plt.show()"
   ]
  },
  {
   "cell_type": "code",
   "execution_count": 7,
   "metadata": {},
   "outputs": [],
   "source": [
    "checknan = newyork_df[\"positiveIncrease\"].apply(lambda x: math.isnan(x))"
   ]
  },
  {
   "cell_type": "code",
   "execution_count": 8,
   "metadata": {
    "scrolled": true
   },
   "outputs": [
    {
     "data": {
      "text/plain": [
       "array([[1.        , 0.65678289],\n",
       "       [0.65678289, 1.        ]])"
      ]
     },
     "execution_count": 8,
     "metadata": {},
     "output_type": "execute_result"
    }
   ],
   "source": [
    "np.corrcoef(newyork_df[-checknan][\"positiveIncrease\"], newyork_df[-checknan][\"totalTestResultsIncrease\"])"
   ]
  },
  {
   "cell_type": "markdown",
   "metadata": {},
   "source": [
    "Test results increase has a 0.68 positive correlation to the increase in positive tests. "
   ]
  },
  {
   "cell_type": "markdown",
   "metadata": {},
   "source": [
    "## Data Preprocessing"
   ]
  },
  {
   "cell_type": "markdown",
   "metadata": {},
   "source": [
    "Data from: https://www.ahd.com/state_statistics.html\n",
    "\n",
    "Data are based on each hospital's most recent Medicare cost report"
   ]
  },
  {
   "cell_type": "code",
   "execution_count": 9,
   "metadata": {},
   "outputs": [],
   "source": [
    "hospital_data = pd.read_csv(\"hospitaldata_bystate.csv\")\n",
    "hospital_data[\"Number of Beds\"] = hospital_data[\"Number of Beds\"].apply(lambda x: int(x.replace(\",\",\"\")))"
   ]
  },
  {
   "cell_type": "markdown",
   "metadata": {},
   "source": [
    "Data from https://www.kff.org/other/state-indicator/distribution-by-age/\n",
    "\n",
    "Notes: 2018 Data\n",
    "\n",
    "\"Population and demographic data on are based on analysis of the Census Bureau’s American Community Survey (ACS) and may differ from other population estimates published yearly by the Census Bureau. U.S. and state population data displayed on this site are restricted to the civilian, non-institutionalized population for whom ACS collects and reports poverty information.\n",
    "\n",
    "Population numbers are rounded to the nearest 100.\""
   ]
  },
  {
   "cell_type": "code",
   "execution_count": 10,
   "metadata": {},
   "outputs": [],
   "source": [
    "agegroups = pd.read_csv(\"agedata_bystate.csv\")"
   ]
  },
  {
   "cell_type": "code",
   "execution_count": 11,
   "metadata": {},
   "outputs": [],
   "source": [
    "# read the data\n",
    "probabilities = pd.read_csv(\"https://raw.githubusercontent.com/hf2000510/infectious_disease_modelling/master/data/probabilities.csv\")\n",
    "\n",
    "# create dicts for fast lookup\n",
    "# 1. beds per state\n",
    "beds_states_lookup = dict(zip(hospital_data[\"States\"], hospital_data[\"Number of Beds\"]))\n",
    "# 2. agegroups per state\n",
    "agegroup_lookup = dict(zip(agegroups['Location'], agegroups[['Children 0-18', 'Adults 19-25', 'Adults 26-34', 'Adults 35-54', 'Adults 55-64', '65+', 'Total']].values))\n",
    "\n",
    "# store the probabilities collected\n",
    "prob_I_to_C_1 = list(probabilities.prob_I_to_ICU_1.values)\n",
    "prob_I_to_C_2 = list(probabilities.prob_I_to_ICU_2.values)\n",
    "prob_C_to_Death_1 = list(probabilities.prob_ICU_to_Death_1.values)\n",
    "prob_C_to_Death_2 = list(probabilities.prob_ICU_to_Death_2.values)"
   ]
  },
  {
   "cell_type": "markdown",
   "metadata": {},
   "source": [
    "## Create Model"
   ]
  },
  {
   "cell_type": "code",
   "execution_count": 12,
   "metadata": {},
   "outputs": [],
   "source": [
    "# Rates are derived from literature review of COVID rates\n",
    "# Number of days from infected to critical: 12 (→rate: 1/12)\n",
    "# Number of days from critical to dead: 7.5 (→rate: 1/7.5)\n",
    "# Number of days from critical to recovered: 6.5 (→rate: 1/6.5)\n",
    "days_to_critical = 12.0\n",
    "days_C_to_D = 7.5\n",
    "days_C_to_R = 6.5\n",
    "\n",
    "def deriv(y, t, beta, gamma, sigma, N, p_I_to_C, p_C_to_D, Beds):\n",
    "    '''\n",
    "    Models the derivatives of the SEIR Model directly from epidemiological model\n",
    "    '''\n",
    "    S, E, I, C, R, D = y\n",
    "\n",
    "    dSdt = -beta(t) * I * S / N\n",
    "    dEdt = beta(t) * I * S / N - sigma * E\n",
    "    dIdt = sigma * E - 1/days_to_critical * p_I_to_C * I - gamma * (1 - p_I_to_C) * I\n",
    "    dCdt = 1/days_to_critical * p_I_to_C * I - 1/days_C_to_D * p_C_to_D * min(Beds(t), C) - max(0, C-Beds(t)) - (1 - p_C_to_D) * 1/days_C_to_R * min(Beds(t), C)\n",
    "    dRdt = gamma * (1 - p_I_to_C) * I + (1 - p_C_to_D) * 1/days_C_to_R * min(Beds(t), C)\n",
    "    dDdt = 1/days_C_to_D * p_C_to_D * min(Beds(t), C) + max(0, C-Beds(t))\n",
    "    return dSdt, dEdt, dIdt, dCdt, dRdt, dDdt"
   ]
  },
  {
   "cell_type": "code",
   "execution_count": 13,
   "metadata": {},
   "outputs": [],
   "source": [
    "gamma = 1.0/9.0\n",
    "sigma = 1.0/3.0\n",
    "\n",
    "def logistic_R_0(t, R_0_start, k, x0, R_0_end):\n",
    "    '''\n",
    "    Models the R_0 as a variable that changes over time\n",
    "    t = time\n",
    "    R_0_start = R_0 at the start of the model\n",
    "    R_0_end = R_0 at the end of specified prediction time\n",
    "    k = expresses the speed at which R_0 evolves\n",
    "    x0 = inflection point for the change of R_0\n",
    "    '''\n",
    "    return (R_0_start-R_0_end) / (1 + np.exp(-k*(-t+x0))) + R_0_end\n",
    "\n",
    "\n",
    "def Model(days, agegroups, beds_0, R_0_start, k, x0, R_0_end, prob_I_to_C, prob_C_to_D, s):\n",
    "    '''\n",
    "    Function: takes the inputs and outputs the SEIRCD numbers for the population modeled by\n",
    "    the derivative functions that we set before.\n",
    "    \n",
    "    ~ Input Variables ~ \n",
    "    \n",
    "    days = number of days in our data\n",
    "    agegroups = demographic breakdown of population in each agegroup in the region\n",
    "    beds_0 = number of hospital beds in the state \n",
    "    R_0_start = R_0 at the start of our model\n",
    "    k = how quickly R_0_start transitions to R_0_end, the speed of R_0 evolution \n",
    "    x0 = inflection point in the R_0\n",
    "    R_0_end = R_0 at the end of our model\n",
    "    prob_I_to_C = probability of infected patients becoming critical\n",
    "    prob_C_to_D = probability of critical patients dying\n",
    "    s = scale at which beds become available over time\n",
    "    \n",
    "    ~ Output Variables ~\n",
    "    \n",
    "    t = time\n",
    "    S = population that is susceptible\n",
    "    E = population that is exposed\n",
    "    I = population that is infected\n",
    "    C = population that is critical\n",
    "    R = population that is recovered (removed from pool of susceptible)\n",
    "    D = population that has died from the disease\n",
    "    R_0_over_time = returns the R_0 over time in the model\n",
    "    Beds = returns the number of beds available at each time step\n",
    "    prob_I_to_C = probability of infected patients becoming critical\n",
    "    prob_C_to_D = probability of critical patients dying\n",
    "    '''\n",
    "    def beta(t):\n",
    "        return logistic_R_0(t, R_0_start, k, x0, R_0_end) * gamma\n",
    "\n",
    "    N = sum(agegroups)\n",
    "    \n",
    "    def Beds(t):\n",
    "        return .1*beds_0 + .1*s*beds_0*t  # 0.003\n",
    "\n",
    "    y0 = N-1.0, 1.0, 0.0, 0.0, 0.0, 0.0\n",
    "    t = np.linspace(0, days, days)\n",
    "    ret = odeint(deriv, y0, t, args=(beta, gamma, sigma, N, prob_I_to_C, prob_C_to_D, Beds))\n",
    "    S, E, I, C, R, D = ret.T\n",
    "    R_0_over_time = [beta(i)/gamma for i in range(len(t))]\n",
    "    \n",
    "    return t, S, E, I, C, R, D, R_0_over_time, Beds, prob_I_to_C, prob_C_to_D"
   ]
  },
  {
   "cell_type": "markdown",
   "metadata": {},
   "source": [
    "## Fit SEIR Model to our Data"
   ]
  },
  {
   "cell_type": "markdown",
   "metadata": {},
   "source": [
    "### Preprocessing"
   ]
  },
  {
   "cell_type": "code",
   "execution_count": 14,
   "metadata": {},
   "outputs": [
    {
     "data": {
      "text/html": [
       "<div>\n",
       "<style scoped>\n",
       "    .dataframe tbody tr th:only-of-type {\n",
       "        vertical-align: middle;\n",
       "    }\n",
       "\n",
       "    .dataframe tbody tr th {\n",
       "        vertical-align: top;\n",
       "    }\n",
       "\n",
       "    .dataframe thead th {\n",
       "        text-align: right;\n",
       "    }\n",
       "</style>\n",
       "<table border=\"1\" class=\"dataframe\">\n",
       "  <thead>\n",
       "    <tr style=\"text-align: right;\">\n",
       "      <th></th>\n",
       "      <th>1/22/20</th>\n",
       "    </tr>\n",
       "  </thead>\n",
       "  <tbody>\n",
       "    <tr>\n",
       "      <th>0</th>\n",
       "      <td>0</td>\n",
       "    </tr>\n",
       "    <tr>\n",
       "      <th>1</th>\n",
       "      <td>0</td>\n",
       "    </tr>\n",
       "    <tr>\n",
       "      <th>2</th>\n",
       "      <td>0</td>\n",
       "    </tr>\n",
       "    <tr>\n",
       "      <th>3</th>\n",
       "      <td>0</td>\n",
       "    </tr>\n",
       "    <tr>\n",
       "      <th>4</th>\n",
       "      <td>0</td>\n",
       "    </tr>\n",
       "  </tbody>\n",
       "</table>\n",
       "</div>"
      ],
      "text/plain": [
       "   1/22/20\n",
       "0        0\n",
       "1        0\n",
       "2        0\n",
       "3        0\n",
       "4        0"
      ]
     },
     "execution_count": 14,
     "metadata": {},
     "output_type": "execute_result"
    }
   ],
   "source": [
    "# Deaths numbers starts at column index 12\n",
    "deaths_df.iloc[:,[12]].head()"
   ]
  },
  {
   "cell_type": "code",
   "execution_count": 15,
   "metadata": {},
   "outputs": [],
   "source": [
    "deaths_by_state = pd.concat([deaths_df[\"Province_State\"],deaths_df.iloc[:,12::]], axis=1)\n",
    "deaths_by_state = deaths_by_state.groupby(\"Province_State\").sum()"
   ]
  },
  {
   "cell_type": "code",
   "execution_count": 16,
   "metadata": {},
   "outputs": [],
   "source": [
    "# Confirmed numbers\n",
    "confirmed_by_state = pd.concat([confirmed_df[\"Province_State\"],confirmed_df.iloc[:,11::]], axis=1)\n",
    "confirmed_by_state = confirmed_by_state.groupby(\"Province_State\").sum()"
   ]
  },
  {
   "cell_type": "code",
   "execution_count": 17,
   "metadata": {
    "scrolled": true
   },
   "outputs": [
    {
     "data": {
      "text/html": [
       "<div>\n",
       "<style scoped>\n",
       "    .dataframe tbody tr th:only-of-type {\n",
       "        vertical-align: middle;\n",
       "    }\n",
       "\n",
       "    .dataframe tbody tr th {\n",
       "        vertical-align: top;\n",
       "    }\n",
       "\n",
       "    .dataframe thead th {\n",
       "        text-align: right;\n",
       "    }\n",
       "</style>\n",
       "<table border=\"1\" class=\"dataframe\">\n",
       "  <thead>\n",
       "    <tr style=\"text-align: right;\">\n",
       "      <th></th>\n",
       "      <th>1/22/20</th>\n",
       "      <th>1/23/20</th>\n",
       "      <th>1/24/20</th>\n",
       "      <th>1/25/20</th>\n",
       "      <th>1/26/20</th>\n",
       "      <th>1/27/20</th>\n",
       "      <th>1/28/20</th>\n",
       "      <th>1/29/20</th>\n",
       "      <th>1/30/20</th>\n",
       "      <th>1/31/20</th>\n",
       "      <th>...</th>\n",
       "      <th>4/30/20</th>\n",
       "      <th>5/1/20</th>\n",
       "      <th>5/2/20</th>\n",
       "      <th>5/3/20</th>\n",
       "      <th>5/4/20</th>\n",
       "      <th>5/5/20</th>\n",
       "      <th>5/6/20</th>\n",
       "      <th>5/7/20</th>\n",
       "      <th>5/8/20</th>\n",
       "      <th>5/9/20</th>\n",
       "    </tr>\n",
       "    <tr>\n",
       "      <th>Province_State</th>\n",
       "      <th></th>\n",
       "      <th></th>\n",
       "      <th></th>\n",
       "      <th></th>\n",
       "      <th></th>\n",
       "      <th></th>\n",
       "      <th></th>\n",
       "      <th></th>\n",
       "      <th></th>\n",
       "      <th></th>\n",
       "      <th></th>\n",
       "      <th></th>\n",
       "      <th></th>\n",
       "      <th></th>\n",
       "      <th></th>\n",
       "      <th></th>\n",
       "      <th></th>\n",
       "      <th></th>\n",
       "      <th></th>\n",
       "      <th></th>\n",
       "      <th></th>\n",
       "    </tr>\n",
       "  </thead>\n",
       "  <tbody>\n",
       "    <tr>\n",
       "      <th>Alabama</th>\n",
       "      <td>0</td>\n",
       "      <td>0</td>\n",
       "      <td>0</td>\n",
       "      <td>0</td>\n",
       "      <td>0</td>\n",
       "      <td>0</td>\n",
       "      <td>0</td>\n",
       "      <td>0</td>\n",
       "      <td>0</td>\n",
       "      <td>0</td>\n",
       "      <td>...</td>\n",
       "      <td>7088</td>\n",
       "      <td>7294</td>\n",
       "      <td>7611</td>\n",
       "      <td>7888</td>\n",
       "      <td>8112</td>\n",
       "      <td>8437</td>\n",
       "      <td>8691</td>\n",
       "      <td>9046</td>\n",
       "      <td>9385</td>\n",
       "      <td>9668</td>\n",
       "    </tr>\n",
       "    <tr>\n",
       "      <th>Alaska</th>\n",
       "      <td>0</td>\n",
       "      <td>0</td>\n",
       "      <td>0</td>\n",
       "      <td>0</td>\n",
       "      <td>0</td>\n",
       "      <td>0</td>\n",
       "      <td>0</td>\n",
       "      <td>0</td>\n",
       "      <td>0</td>\n",
       "      <td>0</td>\n",
       "      <td>...</td>\n",
       "      <td>355</td>\n",
       "      <td>364</td>\n",
       "      <td>365</td>\n",
       "      <td>368</td>\n",
       "      <td>370</td>\n",
       "      <td>371</td>\n",
       "      <td>372</td>\n",
       "      <td>374</td>\n",
       "      <td>377</td>\n",
       "      <td>378</td>\n",
       "    </tr>\n",
       "    <tr>\n",
       "      <th>American Samoa</th>\n",
       "      <td>0</td>\n",
       "      <td>0</td>\n",
       "      <td>0</td>\n",
       "      <td>0</td>\n",
       "      <td>0</td>\n",
       "      <td>0</td>\n",
       "      <td>0</td>\n",
       "      <td>0</td>\n",
       "      <td>0</td>\n",
       "      <td>0</td>\n",
       "      <td>...</td>\n",
       "      <td>0</td>\n",
       "      <td>0</td>\n",
       "      <td>0</td>\n",
       "      <td>0</td>\n",
       "      <td>0</td>\n",
       "      <td>0</td>\n",
       "      <td>0</td>\n",
       "      <td>0</td>\n",
       "      <td>0</td>\n",
       "      <td>0</td>\n",
       "    </tr>\n",
       "    <tr>\n",
       "      <th>Arizona</th>\n",
       "      <td>0</td>\n",
       "      <td>0</td>\n",
       "      <td>0</td>\n",
       "      <td>0</td>\n",
       "      <td>1</td>\n",
       "      <td>1</td>\n",
       "      <td>1</td>\n",
       "      <td>1</td>\n",
       "      <td>1</td>\n",
       "      <td>1</td>\n",
       "      <td>...</td>\n",
       "      <td>7655</td>\n",
       "      <td>7969</td>\n",
       "      <td>8364</td>\n",
       "      <td>8640</td>\n",
       "      <td>8924</td>\n",
       "      <td>9305</td>\n",
       "      <td>9707</td>\n",
       "      <td>9945</td>\n",
       "      <td>10526</td>\n",
       "      <td>10960</td>\n",
       "    </tr>\n",
       "    <tr>\n",
       "      <th>Arkansas</th>\n",
       "      <td>0</td>\n",
       "      <td>0</td>\n",
       "      <td>0</td>\n",
       "      <td>0</td>\n",
       "      <td>0</td>\n",
       "      <td>0</td>\n",
       "      <td>0</td>\n",
       "      <td>0</td>\n",
       "      <td>0</td>\n",
       "      <td>0</td>\n",
       "      <td>...</td>\n",
       "      <td>3281</td>\n",
       "      <td>3337</td>\n",
       "      <td>3372</td>\n",
       "      <td>3437</td>\n",
       "      <td>3491</td>\n",
       "      <td>3525</td>\n",
       "      <td>3611</td>\n",
       "      <td>3703</td>\n",
       "      <td>3747</td>\n",
       "      <td>3747</td>\n",
       "    </tr>\n",
       "  </tbody>\n",
       "</table>\n",
       "<p>5 rows × 109 columns</p>\n",
       "</div>"
      ],
      "text/plain": [
       "                1/22/20  1/23/20  1/24/20  1/25/20  1/26/20  1/27/20  1/28/20  \\\n",
       "Province_State                                                                  \n",
       "Alabama               0        0        0        0        0        0        0   \n",
       "Alaska                0        0        0        0        0        0        0   \n",
       "American Samoa        0        0        0        0        0        0        0   \n",
       "Arizona               0        0        0        0        1        1        1   \n",
       "Arkansas              0        0        0        0        0        0        0   \n",
       "\n",
       "                1/29/20  1/30/20  1/31/20  ...  4/30/20  5/1/20  5/2/20  \\\n",
       "Province_State                             ...                            \n",
       "Alabama               0        0        0  ...     7088    7294    7611   \n",
       "Alaska                0        0        0  ...      355     364     365   \n",
       "American Samoa        0        0        0  ...        0       0       0   \n",
       "Arizona               1        1        1  ...     7655    7969    8364   \n",
       "Arkansas              0        0        0  ...     3281    3337    3372   \n",
       "\n",
       "                5/3/20  5/4/20  5/5/20  5/6/20  5/7/20  5/8/20  5/9/20  \n",
       "Province_State                                                          \n",
       "Alabama           7888    8112    8437    8691    9046    9385    9668  \n",
       "Alaska             368     370     371     372     374     377     378  \n",
       "American Samoa       0       0       0       0       0       0       0  \n",
       "Arizona           8640    8924    9305    9707    9945   10526   10960  \n",
       "Arkansas          3437    3491    3525    3611    3703    3747    3747  \n",
       "\n",
       "[5 rows x 109 columns]"
      ]
     },
     "execution_count": 17,
     "metadata": {},
     "output_type": "execute_result"
    }
   ],
   "source": [
    "confirmed_by_state.head()"
   ]
  },
  {
   "cell_type": "markdown",
   "metadata": {},
   "source": [
    "### Specify Data for Modeling"
   ]
  },
  {
   "cell_type": "code",
   "execution_count": 43,
   "metadata": {},
   "outputs": [],
   "source": [
    "# parameters\n",
    "'''\n",
    "~ Modify for each state that we look at ~\n",
    "data = Deaths by state \n",
    "data2 = Confirmed cases by state\n",
    "beds_in_-- = the number of beds in a specific state, modify lookup accordingly\n",
    "agegroups = the demographic breakdown in a specific state, modify lookup accordingly\n",
    "outbreakshift = number of days that we shift the outbreak back by to account for potential data inaccuracy\n",
    "params_init_min_max = initialize the epidemiological parameters for the SEIR model\n",
    "'''\n",
    "data = deaths_by_state[deaths_by_state.index == \"New York\"].values\n",
    "data = data[0]\n",
    "\n",
    "data2 = confirmed_by_state[confirmed_by_state.index == \"New York\"].values\n",
    "data2 = data2[0]\n",
    "\n",
    "agegroups = agegroup_lookup[\"New York\"]\n",
    "beds_in_NY = beds_states_lookup[\"New York\"]\n",
    "outbreak_shift = 22\n",
    "\n",
    "# form: {parameter: (initial guess, minimum value, max value)}\n",
    "params_init_min_max = {\"R_0_start\": (3.0, 2.0, 5.0), \"k\": (2.5, 0.01, 5.0) , \"x0\": (90, 0, 120), \"R_0_end\": (0.9, 0.3, 3.5),\n",
    "                       \"prob_I_to_C\": (0.05, 0.01, 0.1), \"prob_C_to_D\": (0.5, 0.05, 0.8),\n",
    "                       \"s\": (0.003, 0.001, 0.01)}\n",
    "\n",
    "# Process Data for modeling\n",
    "days = outbreak_shift + len(data)\n",
    "if outbreak_shift >= 0:\n",
    "    y_data = np.concatenate((np.zeros(outbreak_shift), data))\n",
    "else:\n",
    "    y_data = y_data[-outbreak_shift:]\n",
    "    \n",
    "x_data = np.linspace(0, days - 1, days, dtype=int)  # x_data is just [0, 1, ..., max_days] array\n"
   ]
  },
  {
   "cell_type": "markdown",
   "metadata": {},
   "source": [
    "## Minimizing Residuals from Multiple Fits"
   ]
  },
  {
   "cell_type": "code",
   "execution_count": 44,
   "metadata": {
    "scrolled": false
   },
   "outputs": [],
   "source": [
    "from functools import partial\n",
    "\n",
    "def residual(p, x, y_data, y_data_2):\n",
    "    age_groups_error = var(agegroups, sd_age)\n",
    "    beds_in_NY_error = var(np.array([beds_in_NY]), sd_beds)\n",
    "    ret = Model(days, age_groups_error, beds_in_NY_error, **p)\n",
    "    resid1 = y_data - ret[6][x]\n",
    "    resid2 = y_data_2 - ret[3][x]\n",
    "    return abs(resid1) + abs(resid2)\n",
    "## Add error term \n",
    "def var(data,std):\n",
    "    error = np.random.normal(0, scale = std)\n",
    "    new_data = data + error\n",
    "    new_data[new_data<0] = 0 \n",
    "    return new_data\n",
    "\n",
    "## Track parameter value \n",
    "sd_age = max(agegroups)*.05\n",
    "sd_beds = beds_in_NY*.05\n",
    "param_estimate = []\n",
    "\n",
    "if outbreak_shift >= 0:\n",
    "    y_data_2 = np.concatenate((np.zeros(outbreak_shift), data2))\n",
    "else:\n",
    "    y_data_2 = y_data_2[-outbreak_shift:]\n",
    "\n",
    "pars = lmfit.Parameters()\n",
    "\n",
    "for kwarg, (init, mini, maxi) in params_init_min_max.items():\n",
    "    pars.add(str(kwarg), value=init, min=mini, max=maxi, vary=True)\n",
    "    \n",
    "for i in range(100):\n",
    "    y_data_error = var(y_data, max(y_data)*.05)\n",
    "    y_data_2_error = var(y_data_2, max(y_data_2)*.05)\n",
    "    function = partial(residual,x = x_data, y_data= y_data_error, y_data_2= y_data_2_error)\n",
    "    mini = lmfit.Minimizer(function, pars)\n",
    "    result = mini.minimize()\n",
    "    temp = [] \n",
    "    for i,j in result.params.items():\n",
    "        values = j.value\n",
    "        temp.append(values)\n",
    "    param_estimate.append(temp)"
   ]
  },
  {
   "cell_type": "code",
   "execution_count": 45,
   "metadata": {
    "scrolled": false
   },
   "outputs": [],
   "source": [
    "dataframe = pd.DataFrame(param_estimate, columns = result.params.keys())"
   ]
  },
  {
   "cell_type": "code",
   "execution_count": 46,
   "metadata": {},
   "outputs": [],
   "source": [
    "dataframe.to_csv(\"Parameter_Estimates/New_York_2.csv\", index = False)"
   ]
  }
 ],
 "metadata": {
  "kernelspec": {
   "display_name": "Python 3",
   "language": "python",
   "name": "python3"
  },
  "language_info": {
   "codemirror_mode": {
    "name": "ipython",
    "version": 3
   },
   "file_extension": ".py",
   "mimetype": "text/x-python",
   "name": "python",
   "nbconvert_exporter": "python",
   "pygments_lexer": "ipython3",
   "version": "3.7.5"
  }
 },
 "nbformat": 4,
 "nbformat_minor": 2
}
