{
 "cells": [
  {
   "cell_type": "code",
   "execution_count": 1,
   "metadata": {},
   "outputs": [],
   "source": [
    "import pandas as pd\n",
    "import numpy as np\n",
    "import matplotlib.pyplot as plt\n",
    "%matplotlib inline"
   ]
  },
  {
   "cell_type": "markdown",
   "metadata": {},
   "source": [
    "# Examine the parameter estimates"
   ]
  },
  {
   "cell_type": "code",
   "execution_count": 2,
   "metadata": {
    "scrolled": true
   },
   "outputs": [
    {
     "name": "stdout",
     "output_type": "stream",
     "text": [
      "Quantiles for Alabama\n",
      " Parameter\t 2.5%\t 50%\t 97.5%\n",
      "R_0_start:\t 2.153\t 2.962\t 3.001\n",
      "k:\t\t 0.238\t 0.300\t 0.353\n",
      "x0:\t\t 75.798\t 90.021\t 102.143\n",
      "R_0_end:\t 0.708\t 0.902\t 1.782\n",
      "prob_I_to_C:\t 0.046\t 0.050\t 0.057\n",
      "prob_C_to_D:\t 0.438\t 0.500\t 0.593\n",
      "s:\t\t 0.002\t 0.003\t 0.005\n"
     ]
    }
   ],
   "source": [
    "state_name = \"Alabama\"\n",
    "state_df = pd.read_csv(f\"../Parameter_Estimates/{state_name}.csv\")\n",
    "quantiles = np.quantile(state_df.values, [0.025, 0.5, 0.975], 0)\n",
    "print(f\"Quantiles for {state_name}\")\n",
    "print(\" Parameter\\t 2.5%\\t 50%\\t 97.5%\")\n",
    "for i, col in enumerate(state_df.columns):\n",
    "    if i in [1,2,6]:\n",
    "        print(f\"{col}:\\t\\t{quantiles[0, i]: 0.3f}\\t{quantiles[1, i]: 0.3f}\\t{quantiles[2, i]: 0.3f}\")\n",
    "    else:\n",
    "        print(f\"{col}:\\t{quantiles[0, i]: 0.3f}\\t{quantiles[1, i]: 0.3f}\\t{quantiles[2, i]: 0.3f}\")"
   ]
  },
  {
   "cell_type": "code",
   "execution_count": 3,
   "metadata": {},
   "outputs": [
    {
     "name": "stdout",
     "output_type": "stream",
     "text": [
      "Quantiles for California\n",
      " Parameter\t 2.5%\t 50%\t 97.5%\n",
      "R_0_start:\t 2.548\t 2.765\t 3.000\n",
      "k:\t\t 0.130\t 0.300\t 0.409\n",
      "x0:\t\t 84.975\t 90.476\t 99.810\n",
      "R_0_end:\t 0.645\t 0.928\t 1.508\n",
      "prob_I_to_C:\t 0.042\t 0.050\t 0.059\n",
      "prob_C_to_D:\t 0.402\t 0.501\t 0.608\n",
      "s:\t\t 0.002\t 0.003\t 0.005\n"
     ]
    }
   ],
   "source": [
    "state_name = \"California\"\n",
    "state_df = pd.read_csv(f\"../Parameter_Estimates/{state_name}.csv\")\n",
    "quantiles = np.quantile(state_df.values, [0.025, 0.5, 0.975], 0)\n",
    "print(f\"Quantiles for {state_name}\")\n",
    "print(\" Parameter\\t 2.5%\\t 50%\\t 97.5%\")\n",
    "for i, col in enumerate(state_df.columns):\n",
    "    if i in [1,2,6]:\n",
    "        print(f\"{col}:\\t\\t{quantiles[0, i]: 0.3f}\\t{quantiles[1, i]: 0.3f}\\t{quantiles[2, i]: 0.3f}\")\n",
    "    else:\n",
    "        print(f\"{col}:\\t{quantiles[0, i]: 0.3f}\\t{quantiles[1, i]: 0.3f}\\t{quantiles[2, i]: 0.3f}\")"
   ]
  },
  {
   "cell_type": "code",
   "execution_count": 4,
   "metadata": {},
   "outputs": [
    {
     "name": "stdout",
     "output_type": "stream",
     "text": [
      "Quantiles for Georgia\n",
      " Parameter\t 2.5%\t 50%\t 97.5%\n",
      "R_0_start:\t 2.383\t 2.693\t 3.000\n",
      "k:\t\t 0.263\t 0.300\t 0.351\n",
      "x0:\t\t 81.914\t 90.210\t 103.766\n",
      "R_0_end:\t 0.413\t 0.916\t 1.695\n",
      "prob_I_to_C:\t 0.042\t 0.050\t 0.055\n",
      "prob_C_to_D:\t 0.392\t 0.500\t 0.585\n",
      "s:\t\t 0.002\t 0.003\t 0.008\n"
     ]
    }
   ],
   "source": [
    "state_name = \"Georgia\"\n",
    "state_df = pd.read_csv(f\"../Parameter_Estimates/{state_name}.csv\")\n",
    "quantiles = np.quantile(state_df.values, [0.025, 0.5, 0.975], 0)\n",
    "print(f\"Quantiles for {state_name}\")\n",
    "print(\" Parameter\\t 2.5%\\t 50%\\t 97.5%\")\n",
    "for i, col in enumerate(state_df.columns):\n",
    "    if i in [1,2,6]:\n",
    "        print(f\"{col}:\\t\\t{quantiles[0, i]: 0.3f}\\t{quantiles[1, i]: 0.3f}\\t{quantiles[2, i]: 0.3f}\")\n",
    "    else:\n",
    "        print(f\"{col}:\\t{quantiles[0, i]: 0.3f}\\t{quantiles[1, i]: 0.3f}\\t{quantiles[2, i]: 0.3f}\")"
   ]
  },
  {
   "cell_type": "code",
   "execution_count": 5,
   "metadata": {},
   "outputs": [
    {
     "name": "stdout",
     "output_type": "stream",
     "text": [
      "Quantiles for Michigan\n",
      " Parameter\t 2.5%\t 50%\t 97.5%\n",
      "R_0_start:\t 2.528\t 2.776\t 3.000\n",
      "k:\t\t 0.255\t 0.300\t 0.360\n",
      "x0:\t\t 85.362\t 90.426\t 105.392\n",
      "R_0_end:\t 0.656\t 0.948\t 1.402\n",
      "prob_I_to_C:\t 0.045\t 0.050\t 0.054\n",
      "prob_C_to_D:\t 0.477\t 0.501\t 0.572\n",
      "s:\t\t 0.002\t 0.003\t 0.006\n"
     ]
    }
   ],
   "source": [
    "state_name = \"Michigan\"\n",
    "state_df = pd.read_csv(f\"../Parameter_Estimates/{state_name}.csv\")\n",
    "quantiles = np.quantile(state_df.values, [0.025, 0.5, 0.975], 0)\n",
    "print(f\"Quantiles for {state_name}\")\n",
    "print(\" Parameter\\t 2.5%\\t 50%\\t 97.5%\")\n",
    "for i, col in enumerate(state_df.columns):\n",
    "    if i in [1,2,6]:\n",
    "        print(f\"{col}:\\t\\t{quantiles[0, i]: 0.3f}\\t{quantiles[1, i]: 0.3f}\\t{quantiles[2, i]: 0.3f}\")\n",
    "    else:\n",
    "        print(f\"{col}:\\t{quantiles[0, i]: 0.3f}\\t{quantiles[1, i]: 0.3f}\\t{quantiles[2, i]: 0.3f}\")"
   ]
  },
  {
   "cell_type": "code",
   "execution_count": 6,
   "metadata": {},
   "outputs": [
    {
     "name": "stdout",
     "output_type": "stream",
     "text": [
      "Quantiles for New_York\n",
      " Parameter\t 2.5%\t 50%\t 97.5%\n",
      "R_0_start:\t 2.812\t 3.000\t 3.095\n",
      "k:\t\t 0.246\t 0.300\t 0.311\n",
      "x0:\t\t 83.662\t 90.000\t 99.504\n",
      "R_0_end:\t 0.898\t 0.901\t 1.949\n",
      "prob_I_to_C:\t 0.047\t 0.050\t 0.052\n",
      "prob_C_to_D:\t 0.361\t 0.500\t 0.547\n",
      "s:\t\t 0.002\t 0.003\t 0.004\n"
     ]
    }
   ],
   "source": [
    "state_name = \"New_York\"\n",
    "state_df = pd.read_csv(f\"../Parameter_Estimates/{state_name}.csv\")\n",
    "quantiles = np.quantile(state_df.values, [0.025, 0.5, 0.975], 0)\n",
    "print(f\"Quantiles for {state_name}\")\n",
    "print(\" Parameter\\t 2.5%\\t 50%\\t 97.5%\")\n",
    "for i, col in enumerate(state_df.columns):\n",
    "    if i in [1,2,6]:\n",
    "        print(f\"{col}:\\t\\t{quantiles[0, i]: 0.3f}\\t{quantiles[1, i]: 0.3f}\\t{quantiles[2, i]: 0.3f}\")\n",
    "    else:\n",
    "        print(f\"{col}:\\t{quantiles[0, i]: 0.3f}\\t{quantiles[1, i]: 0.3f}\\t{quantiles[2, i]: 0.3f}\")"
   ]
  },
  {
   "cell_type": "markdown",
   "metadata": {},
   "source": [
    "# Read in mobility data"
   ]
  },
  {
   "cell_type": "markdown",
   "metadata": {},
   "source": [
    "Note: all our estimates are from Jan 1st, whereas the mobility data starts January 13. We also have 5 extra days of predictions."
   ]
  },
  {
   "cell_type": "code",
   "execution_count": 7,
   "metadata": {},
   "outputs": [],
   "source": [
    "def logistic_R_0(t, R_0_start, k, x0, R_0_end):\n",
    "    '''\n",
    "    Models the R_0 as a variable that changes over time\n",
    "    t = time\n",
    "    R_0_start = R_0 at the start of the model\n",
    "    R_0_end = R_0 at the end of specified prediction time\n",
    "    k = expresses the speed at which R_0 evolves\n",
    "    x0 = inflection point for the change of R_0\n",
    "    '''\n",
    "    return (R_0_start-R_0_end) / (1 + np.exp(-k*(-t+x0))) + R_0_end"
   ]
  },
  {
   "cell_type": "code",
   "execution_count": 8,
   "metadata": {},
   "outputs": [],
   "source": [
    "apple_mob = pd.read_csv(\"../applemobilitytrends-2020-05-03.csv\")"
   ]
  },
  {
   "cell_type": "code",
   "execution_count": 9,
   "metadata": {},
   "outputs": [],
   "source": [
    "avg_mob = np.mean(apple_mob.loc[apple_mob[\"region\"] == \"Atlanta\"].values[:,4:], axis=0)"
   ]
  },
  {
   "cell_type": "code",
   "execution_count": 10,
   "metadata": {},
   "outputs": [],
   "source": [
    "time = np.arange(0, len(avg_mob), 1)"
   ]
  },
  {
   "cell_type": "code",
   "execution_count": 32,
   "metadata": {},
   "outputs": [],
   "source": [
    "R_0_start = 2.693\n",
    "R_0_end = 0.916\n",
    "k = 0.4\n",
    "x0 = 90.210 - 12"
   ]
  },
  {
   "cell_type": "code",
   "execution_count": 33,
   "metadata": {},
   "outputs": [],
   "source": [
    "r0s = np.apply_along_axis(lambda t: logistic_R_0(t, R_0_start, k, x0, R_0_end), 0, time)"
   ]
  },
  {
   "cell_type": "code",
   "execution_count": 34,
   "metadata": {},
   "outputs": [
    {
     "data": {
      "image/png": "[encoded data removed]",
      "text/plain": [
       "<Figure size 432x288 with 1 Axes>"
      ]
     },
     "metadata": {
      "needs_background": "light"
     },
     "output_type": "display_data"
    }
   ],
   "source": [
    "plt.scatter(avg_mob, r0s)\n",
    "plt.xlabel(\"Percentage Mobility\")\n",
    "plt.ylabel(\"$R_0$ Value\")\n",
    "plt.title(\"Atlanta\");"
   ]
  },
  {
   "cell_type": "code",
   "execution_count": null,
   "metadata": {},
   "outputs": [],
   "source": []
  },
  {
   "cell_type": "code",
   "execution_count": null,
   "metadata": {},
   "outputs": [],
   "source": []
  }
 ],
 "metadata": {
  "kernelspec": {
   "display_name": "Python 3",
   "language": "python",
   "name": "python3"
  },
  "language_info": {
   "codemirror_mode": {
    "name": "ipython",
    "version": 3
   },
   "file_extension": ".py",
   "mimetype": "text/x-python",
   "name": "python",
   "nbconvert_exporter": "python",
   "pygments_lexer": "ipython3",
   "version": "3.7.6"
  }
 },
 "nbformat": 4,
 "nbformat_minor": 4
}
