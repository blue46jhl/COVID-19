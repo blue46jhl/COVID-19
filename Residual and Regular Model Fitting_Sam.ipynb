{
 "cells": [
  {
   "cell_type": "code",
   "execution_count": 5,
   "metadata": {},
   "outputs": [],
   "source": [
    "import pandas as pd\n",
    "import matplotlib.pyplot as plt\n",
    "import matplotlib.ticker as ticker\n",
    "import numpy as np\n",
    "from datetime import date, timedelta, datetime\n",
    "import matplotlib.dates as mdates\n",
    "import math\n",
    "import requests\n",
    "import io\n",
    "%matplotlib inline\n",
    "\n",
    "from scipy.integrate import odeint\n",
    "import lmfit"
   ]
  },
  {
   "cell_type": "code",
   "execution_count": 6,
   "metadata": {},
   "outputs": [],
   "source": [
    "# Fetching Live Data from CSSE \n",
    "url_confirm=\"https://raw.githubusercontent.com/CSSEGISandData/COVID-19/master/csse_covid_19_data/csse_covid_19_time_series/time_series_covid19_confirmed_US.csv\"\n",
    "url_death = \"https://raw.githubusercontent.com/CSSEGISandData/COVID-19/master/csse_covid_19_data/csse_covid_19_time_series/time_series_covid19_deaths_US.csv\"\n",
    "s_confirm = requests.get(url_confirm).content\n",
    "s_death = requests.get(url_death).content\n",
    "confirmed_df = pd.read_csv(io.StringIO(s_confirm.decode('utf-8')))\n",
    "deaths_df = pd.read_csv(io.StringIO(s_death.decode('utf-8')))"
   ]
  },
  {
   "cell_type": "code",
   "execution_count": 7,
   "metadata": {},
   "outputs": [],
   "source": [
    "confirmed_df.rename(columns={\"Admin2\": \"County\"}, inplace=True)\n",
    "deaths_df.rename(columns={\"Admin2\": \"County\"}, inplace=True)"
   ]
  },
  {
   "cell_type": "markdown",
   "metadata": {},
   "source": [
    "## Data from covidtracking.com"
   ]
  },
  {
   "cell_type": "code",
   "execution_count": 8,
   "metadata": {},
   "outputs": [],
   "source": [
    "url_newyork_covidtracking = \"https://covidtracking.com/api/v1/states/NY/daily.csv\"\n",
    "newyork = requests.get(url_newyork_covidtracking).content"
   ]
  },
  {
   "cell_type": "code",
   "execution_count": 9,
   "metadata": {},
   "outputs": [],
   "source": [
    "newyork_df = pd.read_csv(io.StringIO(newyork.decode('utf-8')))"
   ]
  },
  {
   "cell_type": "code",
   "execution_count": 10,
   "metadata": {},
   "outputs": [],
   "source": [
    "newyork_df[\"date\"] = newyork_df[\"date\"].apply(lambda x: datetime.strptime(str(x),\"%Y%m%d\"))"
   ]
  },
  {
   "cell_type": "code",
   "execution_count": 11,
   "metadata": {
    "scrolled": true
   },
   "outputs": [
    {
     "name": "stderr",
     "output_type": "stream",
     "text": [
      "C:\\Users\\sw708\\Miniconda3\\envs\\sams_env\\lib\\site-packages\\pandas\\plotting\\_matplotlib\\converter.py:103: FutureWarning: Using an implicitly registered datetime converter for a matplotlib plotting method. The converter was registered by pandas on import. Future versions of pandas will require you to explicitly register matplotlib converters.\n",
      "\n",
      "To register the converters:\n",
      "\t>>> from pandas.plotting import register_matplotlib_converters\n",
      "\t>>> register_matplotlib_converters()\n",
      "  warnings.warn(msg, FutureWarning)\n"
     ]
    },
    {
     "data": {
      "image/png": "[encoded data removed]",
      "text/plain": [
       "<Figure size 432x288 with 1 Axes>"
      ]
     },
     "metadata": {
      "needs_background": "light"
     },
     "output_type": "display_data"
    }
   ],
   "source": [
    "plt.plot(newyork_df[\"date\"], np.array([newyork_df[\"positiveIncrease\"],newyork_df[\"totalTestResultsIncrease\"]]).T)\n",
    "plt.show()"
   ]
  },
  {
   "cell_type": "code",
   "execution_count": 12,
   "metadata": {},
   "outputs": [],
   "source": [
    "checknan = newyork_df[\"positiveIncrease\"].apply(lambda x: math.isnan(x))"
   ]
  },
  {
   "cell_type": "code",
   "execution_count": 13,
   "metadata": {
    "scrolled": true
   },
   "outputs": [
    {
     "data": {
      "text/plain": [
       "array([[1.        , 0.68365251],\n",
       "       [0.68365251, 1.        ]])"
      ]
     },
     "execution_count": 13,
     "metadata": {},
     "output_type": "execute_result"
    }
   ],
   "source": [
    "np.corrcoef(newyork_df[-checknan][\"positiveIncrease\"], newyork_df[-checknan][\"totalTestResultsIncrease\"])"
   ]
  },
  {
   "cell_type": "markdown",
   "metadata": {},
   "source": [
    "Test results increase has a 0.68 positive correlation to the increase in positive tests. "
   ]
  },
  {
   "cell_type": "markdown",
   "metadata": {},
   "source": [
    "## Data Preprocessing"
   ]
  },
  {
   "cell_type": "markdown",
   "metadata": {},
   "source": [
    "Data from: https://www.ahd.com/state_statistics.html\n",
    "\n",
    "Data are based on each hospital's most recent Medicare cost report"
   ]
  },
  {
   "cell_type": "code",
   "execution_count": 14,
   "metadata": {},
   "outputs": [],
   "source": [
    "hospital_data = pd.read_csv(\"hospitaldata_bystate.csv\")\n",
    "hospital_data[\"Number of Beds\"] = hospital_data[\"Number of Beds\"].apply(lambda x: int(x.replace(\",\",\"\")))"
   ]
  },
  {
   "cell_type": "markdown",
   "metadata": {},
   "source": [
    "Data from https://www.kff.org/other/state-indicator/distribution-by-age/\n",
    "\n",
    "Notes: 2018 Data\n",
    "\n",
    "\"Population and demographic data on are based on analysis of the Census Bureau’s American Community Survey (ACS) and may differ from other population estimates published yearly by the Census Bureau. U.S. and state population data displayed on this site are restricted to the civilian, non-institutionalized population for whom ACS collects and reports poverty information.\n",
    "\n",
    "Population numbers are rounded to the nearest 100.\""
   ]
  },
  {
   "cell_type": "code",
   "execution_count": 15,
   "metadata": {},
   "outputs": [],
   "source": [
    "agegroups = pd.read_csv(\"agedata_bystate.csv\")"
   ]
  },
  {
   "cell_type": "code",
   "execution_count": 16,
   "metadata": {},
   "outputs": [],
   "source": [
    "# read the data\n",
    "probabilities = pd.read_csv(\"https://raw.githubusercontent.com/hf2000510/infectious_disease_modelling/master/data/probabilities.csv\")\n",
    "\n",
    "# create dicts for fast lookup\n",
    "# 1. beds per state\n",
    "beds_states_lookup = dict(zip(hospital_data[\"States\"], hospital_data[\"Number of Beds\"]))\n",
    "# 2. agegroups per state\n",
    "agegroup_lookup = dict(zip(agegroups['Location'], agegroups[['Children 0-18', 'Adults 19-25', 'Adults 26-34', 'Adults 35-54', 'Adults 55-64', '65+', 'Total']].values))\n",
    "\n",
    "# store the probabilities collected\n",
    "prob_I_to_C_1 = list(probabilities.prob_I_to_ICU_1.values)\n",
    "prob_I_to_C_2 = list(probabilities.prob_I_to_ICU_2.values)\n",
    "prob_C_to_Death_1 = list(probabilities.prob_ICU_to_Death_1.values)\n",
    "prob_C_to_Death_2 = list(probabilities.prob_ICU_to_Death_2.values)"
   ]
  },
  {
   "cell_type": "markdown",
   "metadata": {},
   "source": [
    "## Plotting Functions"
   ]
  },
  {
   "cell_type": "code",
   "execution_count": 13,
   "metadata": {},
   "outputs": [
    {
     "data": {
      "text/plain": [
       "<Figure size 432x288 with 0 Axes>"
      ]
     },
     "metadata": {},
     "output_type": "display_data"
    }
   ],
   "source": [
    "plt.gcf().subplots_adjust(bottom=0.15)\n",
    "\n",
    "def plotter(t, S, E, I, C, R, D, R_0, B, S_1=None, S_2=None, x_ticks=None):\n",
    "    if S_1 is not None and S_2 is not None:\n",
    "      print(f\"percentage going to ICU: {S_1*100}; percentage dying in ICU: {S_2 * 100}\")\n",
    "\n",
    "\n",
    "    f, ax = plt.subplots(1,1,figsize=(20,4))\n",
    "    if x_ticks is None:\n",
    "        ax.plot(t, S, 'b', alpha=0.7, linewidth=2, label='Susceptible')\n",
    "        ax.plot(t, E, 'y', alpha=0.7, linewidth=2, label='Exposed')\n",
    "        ax.plot(t, I, 'r', alpha=0.7, linewidth=2, label='Infected')\n",
    "        ax.plot(t, C, 'r--', alpha=0.7, linewidth=2, label='Critical')\n",
    "        ax.plot(t, R, 'g', alpha=0.7, linewidth=2, label='Recovered')\n",
    "        ax.plot(t, D, 'k', alpha=0.7, linewidth=2, label='Dead')\n",
    "    else:\n",
    "        ax.plot(x_ticks, S, 'b', alpha=0.7, linewidth=2, label='Susceptible')\n",
    "        ax.plot(x_ticks, E, 'y', alpha=0.7, linewidth=2, label='Exposed')\n",
    "        ax.plot(x_ticks, I, 'r', alpha=0.7, linewidth=2, label='Infected')\n",
    "        ax.plot(x_ticks, C, 'r--', alpha=0.7, linewidth=2, label='Critical')\n",
    "        ax.plot(x_ticks, R, 'g', alpha=0.7, linewidth=2, label='Recovered')\n",
    "        ax.plot(x_ticks, D, 'k', alpha=0.7, linewidth=2, label='Dead')\n",
    "\n",
    "        ax.xaxis.set_major_locator(mdates.YearLocator())\n",
    "        ax.xaxis.set_major_formatter(mdates.DateFormatter('%Y-%m-%d'))\n",
    "        ax.xaxis.set_minor_locator(mdates.MonthLocator())\n",
    "        f.autofmt_xdate()\n",
    "\n",
    "\n",
    "    ax.title.set_text('extended SEIR-Model')\n",
    "\n",
    "    ax.grid(b=True, which='major', c='w', lw=2, ls='-')\n",
    "    legend = ax.legend()\n",
    "    legend.get_frame().set_alpha(0.5)\n",
    "    for spine in ('top', 'right', 'bottom', 'left'):\n",
    "        ax.spines[spine].set_visible(False)\n",
    "\n",
    "    plt.show();\n",
    "    \n",
    "    f = plt.figure(figsize=(20,4))\n",
    "    # sp1\n",
    "    ax1 = f.add_subplot(131)\n",
    "    if x_ticks is None:\n",
    "        ax1.plot(t, R_0, 'b--', alpha=0.7, linewidth=2, label='R_0')\n",
    "    else:\n",
    "        ax1.plot(x_ticks, R_0, 'b--', alpha=0.7, linewidth=2, label='R_0')\n",
    "        ax1.xaxis.set_major_locator(mdates.YearLocator())\n",
    "        ax1.xaxis.set_major_formatter(mdates.DateFormatter('%Y-%m-%d'))\n",
    "        ax1.xaxis.set_minor_locator(mdates.MonthLocator())\n",
    "        f.autofmt_xdate()\n",
    "\n",
    " \n",
    "    ax1.title.set_text('R_0 over time')\n",
    "    ax1.grid(b=True, which='major', c='w', lw=2, ls='-')\n",
    "    legend = ax1.legend()\n",
    "    legend.get_frame().set_alpha(0.5)\n",
    "    for spine in ('top', 'right', 'bottom', 'left'):\n",
    "        ax.spines[spine].set_visible(False)\n",
    "    \n",
    "    # sp2\n",
    "    ax2 = f.add_subplot(132)\n",
    "    total_CFR = [0] + [100 * D[i] / sum(sigma*E[:i]) if sum(sigma*E[:i])>0 else 0 for i in range(1, len(t))]\n",
    "    daily_CFR = [0] + [100 * ((D[i]-D[i-1]) / ((R[i]-R[i-1]) + (D[i]-D[i-1]))) if max((R[i]-R[i-1]), (D[i]-D[i-1]))>10 else 0 for i in range(1, len(t))]\n",
    "    if x_ticks is None:\n",
    "        ax2.plot(t, total_CFR, 'r--', alpha=0.7, linewidth=2, label='total')\n",
    "        ax2.plot(t, daily_CFR, 'b--', alpha=0.7, linewidth=2, label='daily')\n",
    "    else:\n",
    "        ax2.plot(x_ticks, total_CFR, 'r--', alpha=0.7, linewidth=2, label='total')\n",
    "        ax2.plot(x_ticks, daily_CFR, 'b--', alpha=0.7, linewidth=2, label='daily')\n",
    "        ax2.xaxis.set_major_locator(mdates.YearLocator())\n",
    "        ax2.xaxis.set_major_formatter(mdates.DateFormatter('%Y-%m-%d'))\n",
    "        ax2.xaxis.set_minor_locator(mdates.MonthLocator())\n",
    "        f.autofmt_xdate()\n",
    "\n",
    "    ax2.title.set_text('Fatality Rate (%)')\n",
    "    ax2.grid(b=True, which='major', c='w', lw=2, ls='-')\n",
    "    legend = ax2.legend()\n",
    "    legend.get_frame().set_alpha(0.5)\n",
    "    for spine in ('top', 'right', 'bottom', 'left'):\n",
    "        ax.spines[spine].set_visible(False)\n",
    "\n",
    "    # sp3\n",
    "    ax3 = f.add_subplot(133)\n",
    "    newDs = [0] + [D[i]-D[i-1] for i in range(1, len(t))]\n",
    "    if x_ticks is None:\n",
    "        ax3.plot(t, newDs, 'r--', alpha=0.7, linewidth=2, label='total')\n",
    "        ax3.plot(t, [max(0, C[i]-B(i)) for i in range(len(t))], 'b--', alpha=0.7, linewidth=2, label=\"over capacity\")\n",
    "    else:\n",
    "        ax3.plot(x_ticks, newDs, 'r--', alpha=0.7, linewidth=2, label='total')\n",
    "        ax3.plot(x_ticks, [max(0, C[i]-B(i)) for i in range(len(t))], 'b--', alpha=0.7, linewidth=2, label=\"over capacity\")\n",
    "        ax3.xaxis.set_major_locator(mdates.YearLocator())\n",
    "        ax3.xaxis.set_major_formatter(mdates.DateFormatter('%Y-%m-%d'))\n",
    "        ax3.xaxis.set_minor_locator(mdates.MonthLocator())\n",
    "        f.autofmt_xdate()\n",
    "\n",
    "    ax3.title.set_text('Deaths per day')\n",
    "    ax3.yaxis.set_tick_params(length=0)\n",
    "    ax3.xaxis.set_tick_params(length=0)\n",
    "    ax3.grid(b=True, which='major', c='w', lw=2, ls='-')\n",
    "    legend = ax3.legend()\n",
    "    legend.get_frame().set_alpha(0.5)\n",
    "    for spine in ('top', 'right', 'bottom', 'left'):\n",
    "        ax.spines[spine].set_visible(False)\n",
    "\n",
    "    plt.show();"
   ]
  },
  {
   "cell_type": "markdown",
   "metadata": {},
   "source": [
    "## Create Model"
   ]
  },
  {
   "cell_type": "code",
   "execution_count": 17,
   "metadata": {},
   "outputs": [],
   "source": [
    "# Rates are derived from literature review of COVID rates\n",
    "# Number of days from infected to critical: 12 (→rate: 1/12)\n",
    "# Number of days from critical to dead: 7.5 (→rate: 1/7.5)\n",
    "# Number of days from critical to recovered: 6.5 (→rate: 1/6.5)\n",
    "days_to_critical = 12.0\n",
    "days_C_to_D = 7.5\n",
    "days_C_to_R = 6.5\n",
    "\n",
    "def deriv(y, t, beta, gamma, sigma, N, p_I_to_C, p_C_to_D, Beds):\n",
    "    '''\n",
    "    Models the derivatives of the SEIR Model directly from epidemiological model\n",
    "    '''\n",
    "    S, E, I, C, R, D = y\n",
    "\n",
    "    dSdt = -beta(t) * I * S / N\n",
    "    dEdt = beta(t) * I * S / N - sigma * E\n",
    "    dIdt = sigma * E - 1/days_to_critical * p_I_to_C * I - gamma * (1 - p_I_to_C) * I\n",
    "    dCdt = 1/days_to_critical * p_I_to_C * I - 1/days_C_to_D * p_C_to_D * min(Beds(t), C) - max(0, C-Beds(t)) - (1 - p_C_to_D) * 1/days_C_to_R * min(Beds(t), C)\n",
    "    dRdt = gamma * (1 - p_I_to_C) * I + (1 - p_C_to_D) * 1/days_C_to_R * min(Beds(t), C)\n",
    "    dDdt = 1/days_C_to_D * p_C_to_D * min(Beds(t), C) + max(0, C-Beds(t))\n",
    "    return dSdt, dEdt, dIdt, dCdt, dRdt, dDdt"
   ]
  },
  {
   "cell_type": "code",
   "execution_count": 18,
   "metadata": {},
   "outputs": [],
   "source": [
    "gamma = 1.0/9.0\n",
    "sigma = 1.0/3.0\n",
    "\n",
    "def logistic_R_0(t, R_0_start, k, x0, R_0_end):\n",
    "    '''\n",
    "    Models the R_0 as a variable that changes over time\n",
    "    t = time\n",
    "    R_0_start = R_0 at the start of the model\n",
    "    R_0_end = R_0 at the end of specified prediction time\n",
    "    k = expresses the speed at which R_0 evolves\n",
    "    x0 = inflection point for the change of R_0\n",
    "    '''\n",
    "    return (R_0_start-R_0_end) / (1 + np.exp(-k*(-t+x0))) + R_0_end\n",
    "\n",
    "\n",
    "def Model(days, agegroups, beds_0, R_0_start, k, x0, R_0_end, prob_I_to_C, prob_C_to_D, s):\n",
    "    '''\n",
    "    Function: takes the inputs and outputs the SEIRCD numbers for the population modeled by\n",
    "    the derivative functions that we set before.\n",
    "    \n",
    "    ~ Input Variables ~ \n",
    "    \n",
    "    days = number of days in our data\n",
    "    agegroups = demographic breakdown of population in each agegroup in the region\n",
    "    beds_0 = number of hospital beds in the state \n",
    "    R_0_start = R_0 at the start of our model\n",
    "    k = how quickly R_0_start transitions to R_0_end, the speed of R_0 evolution \n",
    "    x0 = inflection point in the R_0\n",
    "    R_0_end = R_0 at the end of our model\n",
    "    prob_I_to_C = probability of infected patients becoming critical\n",
    "    prob_C_to_D = probability of critical patients dying\n",
    "    s = scale at which beds become available over time\n",
    "    \n",
    "    ~ Output Variables ~\n",
    "    \n",
    "    t = time\n",
    "    S = population that is susceptible\n",
    "    E = population that is exposed\n",
    "    I = population that is infected\n",
    "    C = population that is critical\n",
    "    R = population that is recovered (removed from pool of susceptible)\n",
    "    D = population that has died from the disease\n",
    "    R_0_over_time = returns the R_0 over time in the model\n",
    "    Beds = returns the number of beds available at each time step\n",
    "    prob_I_to_C = probability of infected patients becoming critical\n",
    "    prob_C_to_D = probability of critical patients dying\n",
    "    '''\n",
    "    def beta(t):\n",
    "        return logistic_R_0(t, R_0_start, k, x0, R_0_end) * gamma\n",
    "\n",
    "    N = sum(agegroups)\n",
    "    \n",
    "    def Beds(t):\n",
    "        return beds_0 + s*beds_0*t  # 0.003\n",
    "\n",
    "    y0 = N-1.0, 1.0, 0.0, 0.0, 0.0, 0.0\n",
    "    t = np.linspace(0, days, days)\n",
    "    ret = odeint(deriv, y0, t, args=(beta, gamma, sigma, N, prob_I_to_C, prob_C_to_D, Beds))\n",
    "    S, E, I, C, R, D = ret.T\n",
    "    R_0_over_time = [beta(i)/gamma for i in range(len(t))]\n",
    "    \n",
    "    return t, S, E, I, C, R, D, R_0_over_time, Beds, prob_I_to_C, prob_C_to_D"
   ]
  },
  {
   "cell_type": "markdown",
   "metadata": {},
   "source": [
    "## Simulated SEIR Model"
   ]
  },
  {
   "cell_type": "code",
   "execution_count": 128,
   "metadata": {
    "scrolled": false
   },
   "outputs": [
    {
     "name": "stdout",
     "output_type": "stream",
     "text": [
      "percentage going to ICU: 5.0; percentage dying in ICU: 30.0\n"
     ]
    },
    {
     "data": {
      "image/png": "[encoded data removed]",
      "text/plain": [
       "<Figure size 1440x288 with 1 Axes>"
      ]
     },
     "metadata": {
      "needs_background": "light"
     },
     "output_type": "display_data"
    },
    {
     "data": {
      "image/png": "[encoded data removed]",
      "text/plain": [
       "<Figure size 1440x288 with 3 Axes>"
      ]
     },
     "metadata": {
      "needs_background": "light"
     },
     "output_type": "display_data"
    }
   ],
   "source": [
    "plotter(*Model(days=500, agegroups=[100000, 100000, 100000, 100000, 100000, 100000, 100000, 100000, 100000], \n",
    "               beds_0 = 5000, R_0_start=3.5, k=1.0, x0=60, R_0_end=1.0, \n",
    "               prob_I_to_C=0.05, prob_C_to_D=0.3, s=0.003))"
   ]
  },
  {
   "cell_type": "markdown",
   "metadata": {},
   "source": [
    "## Fit SEIR Model to our Data"
   ]
  },
  {
   "cell_type": "markdown",
   "metadata": {},
   "source": [
    "### Preprocessing"
   ]
  },
  {
   "cell_type": "code",
   "execution_count": 19,
   "metadata": {},
   "outputs": [
    {
     "data": {
      "text/html": [
       "<div>\n",
       "<style scoped>\n",
       "    .dataframe tbody tr th:only-of-type {\n",
       "        vertical-align: middle;\n",
       "    }\n",
       "\n",
       "    .dataframe tbody tr th {\n",
       "        vertical-align: top;\n",
       "    }\n",
       "\n",
       "    .dataframe thead th {\n",
       "        text-align: right;\n",
       "    }\n",
       "</style>\n",
       "<table border=\"1\" class=\"dataframe\">\n",
       "  <thead>\n",
       "    <tr style=\"text-align: right;\">\n",
       "      <th></th>\n",
       "      <th>1/22/20</th>\n",
       "    </tr>\n",
       "  </thead>\n",
       "  <tbody>\n",
       "    <tr>\n",
       "      <th>0</th>\n",
       "      <td>0</td>\n",
       "    </tr>\n",
       "    <tr>\n",
       "      <th>1</th>\n",
       "      <td>0</td>\n",
       "    </tr>\n",
       "    <tr>\n",
       "      <th>2</th>\n",
       "      <td>0</td>\n",
       "    </tr>\n",
       "    <tr>\n",
       "      <th>3</th>\n",
       "      <td>0</td>\n",
       "    </tr>\n",
       "    <tr>\n",
       "      <th>4</th>\n",
       "      <td>0</td>\n",
       "    </tr>\n",
       "  </tbody>\n",
       "</table>\n",
       "</div>"
      ],
      "text/plain": [
       "   1/22/20\n",
       "0        0\n",
       "1        0\n",
       "2        0\n",
       "3        0\n",
       "4        0"
      ]
     },
     "execution_count": 19,
     "metadata": {},
     "output_type": "execute_result"
    }
   ],
   "source": [
    "# Deaths numbers starts at column index 12\n",
    "deaths_df.iloc[:,[12]].head()"
   ]
  },
  {
   "cell_type": "code",
   "execution_count": 20,
   "metadata": {},
   "outputs": [],
   "source": [
    "deaths_by_state = pd.concat([deaths_df[\"Province_State\"],deaths_df.iloc[:,12::]], axis=1)\n",
    "deaths_by_state = deaths_by_state.groupby(\"Province_State\").sum()"
   ]
  },
  {
   "cell_type": "code",
   "execution_count": 21,
   "metadata": {},
   "outputs": [],
   "source": [
    "# Confirmed numbers\n",
    "confirmed_by_state = pd.concat([confirmed_df[\"Province_State\"],confirmed_df.iloc[:,11::]], axis=1)\n",
    "confirmed_by_state = confirmed_by_state.groupby(\"Province_State\").sum()"
   ]
  },
  {
   "cell_type": "code",
   "execution_count": 22,
   "metadata": {
    "scrolled": true
   },
   "outputs": [
    {
     "data": {
      "text/html": [
       "<div>\n",
       "<style scoped>\n",
       "    .dataframe tbody tr th:only-of-type {\n",
       "        vertical-align: middle;\n",
       "    }\n",
       "\n",
       "    .dataframe tbody tr th {\n",
       "        vertical-align: top;\n",
       "    }\n",
       "\n",
       "    .dataframe thead th {\n",
       "        text-align: right;\n",
       "    }\n",
       "</style>\n",
       "<table border=\"1\" class=\"dataframe\">\n",
       "  <thead>\n",
       "    <tr style=\"text-align: right;\">\n",
       "      <th></th>\n",
       "      <th>1/22/20</th>\n",
       "      <th>1/23/20</th>\n",
       "      <th>1/24/20</th>\n",
       "      <th>1/25/20</th>\n",
       "      <th>1/26/20</th>\n",
       "      <th>1/27/20</th>\n",
       "      <th>1/28/20</th>\n",
       "      <th>1/29/20</th>\n",
       "      <th>1/30/20</th>\n",
       "      <th>1/31/20</th>\n",
       "      <th>...</th>\n",
       "      <th>4/29/20</th>\n",
       "      <th>4/30/20</th>\n",
       "      <th>5/1/20</th>\n",
       "      <th>5/2/20</th>\n",
       "      <th>5/3/20</th>\n",
       "      <th>5/4/20</th>\n",
       "      <th>5/5/20</th>\n",
       "      <th>5/6/20</th>\n",
       "      <th>5/7/20</th>\n",
       "      <th>5/8/20</th>\n",
       "    </tr>\n",
       "    <tr>\n",
       "      <th>Province_State</th>\n",
       "      <th></th>\n",
       "      <th></th>\n",
       "      <th></th>\n",
       "      <th></th>\n",
       "      <th></th>\n",
       "      <th></th>\n",
       "      <th></th>\n",
       "      <th></th>\n",
       "      <th></th>\n",
       "      <th></th>\n",
       "      <th></th>\n",
       "      <th></th>\n",
       "      <th></th>\n",
       "      <th></th>\n",
       "      <th></th>\n",
       "      <th></th>\n",
       "      <th></th>\n",
       "      <th></th>\n",
       "      <th></th>\n",
       "      <th></th>\n",
       "      <th></th>\n",
       "    </tr>\n",
       "  </thead>\n",
       "  <tbody>\n",
       "    <tr>\n",
       "      <th>Alabama</th>\n",
       "      <td>0</td>\n",
       "      <td>0</td>\n",
       "      <td>0</td>\n",
       "      <td>0</td>\n",
       "      <td>0</td>\n",
       "      <td>0</td>\n",
       "      <td>0</td>\n",
       "      <td>0</td>\n",
       "      <td>0</td>\n",
       "      <td>0</td>\n",
       "      <td>...</td>\n",
       "      <td>6912</td>\n",
       "      <td>7088</td>\n",
       "      <td>7294</td>\n",
       "      <td>7611</td>\n",
       "      <td>7888</td>\n",
       "      <td>8112</td>\n",
       "      <td>8437</td>\n",
       "      <td>8691</td>\n",
       "      <td>9046</td>\n",
       "      <td>9385</td>\n",
       "    </tr>\n",
       "    <tr>\n",
       "      <th>Alaska</th>\n",
       "      <td>0</td>\n",
       "      <td>0</td>\n",
       "      <td>0</td>\n",
       "      <td>0</td>\n",
       "      <td>0</td>\n",
       "      <td>0</td>\n",
       "      <td>0</td>\n",
       "      <td>0</td>\n",
       "      <td>0</td>\n",
       "      <td>0</td>\n",
       "      <td>...</td>\n",
       "      <td>355</td>\n",
       "      <td>355</td>\n",
       "      <td>364</td>\n",
       "      <td>365</td>\n",
       "      <td>368</td>\n",
       "      <td>370</td>\n",
       "      <td>371</td>\n",
       "      <td>372</td>\n",
       "      <td>374</td>\n",
       "      <td>377</td>\n",
       "    </tr>\n",
       "    <tr>\n",
       "      <th>American Samoa</th>\n",
       "      <td>0</td>\n",
       "      <td>0</td>\n",
       "      <td>0</td>\n",
       "      <td>0</td>\n",
       "      <td>0</td>\n",
       "      <td>0</td>\n",
       "      <td>0</td>\n",
       "      <td>0</td>\n",
       "      <td>0</td>\n",
       "      <td>0</td>\n",
       "      <td>...</td>\n",
       "      <td>0</td>\n",
       "      <td>0</td>\n",
       "      <td>0</td>\n",
       "      <td>0</td>\n",
       "      <td>0</td>\n",
       "      <td>0</td>\n",
       "      <td>0</td>\n",
       "      <td>0</td>\n",
       "      <td>0</td>\n",
       "      <td>0</td>\n",
       "    </tr>\n",
       "    <tr>\n",
       "      <th>Arizona</th>\n",
       "      <td>0</td>\n",
       "      <td>0</td>\n",
       "      <td>0</td>\n",
       "      <td>0</td>\n",
       "      <td>1</td>\n",
       "      <td>1</td>\n",
       "      <td>1</td>\n",
       "      <td>1</td>\n",
       "      <td>1</td>\n",
       "      <td>1</td>\n",
       "      <td>...</td>\n",
       "      <td>7209</td>\n",
       "      <td>7655</td>\n",
       "      <td>7969</td>\n",
       "      <td>8364</td>\n",
       "      <td>8640</td>\n",
       "      <td>8924</td>\n",
       "      <td>9305</td>\n",
       "      <td>9707</td>\n",
       "      <td>9945</td>\n",
       "      <td>10526</td>\n",
       "    </tr>\n",
       "    <tr>\n",
       "      <th>Arkansas</th>\n",
       "      <td>0</td>\n",
       "      <td>0</td>\n",
       "      <td>0</td>\n",
       "      <td>0</td>\n",
       "      <td>0</td>\n",
       "      <td>0</td>\n",
       "      <td>0</td>\n",
       "      <td>0</td>\n",
       "      <td>0</td>\n",
       "      <td>0</td>\n",
       "      <td>...</td>\n",
       "      <td>3193</td>\n",
       "      <td>3281</td>\n",
       "      <td>3337</td>\n",
       "      <td>3372</td>\n",
       "      <td>3437</td>\n",
       "      <td>3491</td>\n",
       "      <td>3525</td>\n",
       "      <td>3611</td>\n",
       "      <td>3703</td>\n",
       "      <td>3747</td>\n",
       "    </tr>\n",
       "  </tbody>\n",
       "</table>\n",
       "<p>5 rows × 108 columns</p>\n",
       "</div>"
      ],
      "text/plain": [
       "                1/22/20  1/23/20  1/24/20  1/25/20  1/26/20  1/27/20  1/28/20  \\\n",
       "Province_State                                                                  \n",
       "Alabama               0        0        0        0        0        0        0   \n",
       "Alaska                0        0        0        0        0        0        0   \n",
       "American Samoa        0        0        0        0        0        0        0   \n",
       "Arizona               0        0        0        0        1        1        1   \n",
       "Arkansas              0        0        0        0        0        0        0   \n",
       "\n",
       "                1/29/20  1/30/20  1/31/20  ...  4/29/20  4/30/20  5/1/20  \\\n",
       "Province_State                             ...                             \n",
       "Alabama               0        0        0  ...     6912     7088    7294   \n",
       "Alaska                0        0        0  ...      355      355     364   \n",
       "American Samoa        0        0        0  ...        0        0       0   \n",
       "Arizona               1        1        1  ...     7209     7655    7969   \n",
       "Arkansas              0        0        0  ...     3193     3281    3337   \n",
       "\n",
       "                5/2/20  5/3/20  5/4/20  5/5/20  5/6/20  5/7/20  5/8/20  \n",
       "Province_State                                                          \n",
       "Alabama           7611    7888    8112    8437    8691    9046    9385  \n",
       "Alaska             365     368     370     371     372     374     377  \n",
       "American Samoa       0       0       0       0       0       0       0  \n",
       "Arizona           8364    8640    8924    9305    9707    9945   10526  \n",
       "Arkansas          3372    3437    3491    3525    3611    3703    3747  \n",
       "\n",
       "[5 rows x 108 columns]"
      ]
     },
     "execution_count": 22,
     "metadata": {},
     "output_type": "execute_result"
    }
   ],
   "source": [
    "confirmed_by_state.head()"
   ]
  },
  {
   "cell_type": "markdown",
   "metadata": {},
   "source": [
    "### Specify Data for Modeling"
   ]
  },
  {
   "cell_type": "code",
   "execution_count": 102,
   "metadata": {},
   "outputs": [],
   "source": [
    "# parameters\n",
    "'''\n",
    "~ Modify for each state that we look at ~\n",
    "data = Deaths by state \n",
    "data2 = Confirmed cases by state\n",
    "beds_in_-- = the number of beds in a specific state, modify lookup accordingly\n",
    "agegroups = the demographic breakdown in a specific state, modify lookup accordingly\n",
    "outbreakshift = number of days that we shift the outbreak back by to account for potential data inaccuracy\n",
    "params_init_min_max = initialize the epidemiological parameters for the SEIR model\n",
    "'''\n",
    "data = deaths_by_state[deaths_by_state.index == \"New York\"].values\n",
    "data = data[0]\n",
    "\n",
    "data2 = confirmed_by_state[confirmed_by_state.index == \"New York\"].values\n",
    "data2 = data2[0]\n",
    "\n",
    "agegroups = agegroup_lookup[\"New York\"]\n",
    "beds_in_NY = beds_states_lookup[\"New York\"]\n",
    "outbreak_shift = 22\n",
    "\n",
    "# form: {parameter: (initial guess, minimum value, max value)}\n",
    "params_init_min_max = {\"R_0_start\": (3.0, 2.0, 5.0), \"k\": (0.3, 0.01, 0.5), \"x0\": (90, 0, 120), \"R_0_end\": (0.9, 0.3, 3.5),\n",
    "                       \"prob_I_to_C\": (0.05, 0.01, 0.1), \"prob_C_to_D\": (0.5, 0.05, 0.8),\n",
    "                       \"s\": (0.003, 0.001, 0.01)}\n",
    "\n",
    "# Process Data for modeling\n",
    "days = outbreak_shift + len(data)\n",
    "if outbreak_shift >= 0:\n",
    "    y_data = np.concatenate((np.zeros(outbreak_shift), data))\n",
    "else:\n",
    "    y_data = y_data[-outbreak_shift:]\n",
    "    \n",
    "x_data = np.linspace(0, days - 1, days, dtype=int)  # x_data is just [0, 1, ..., max_days] array\n"
   ]
  },
  {
   "cell_type": "markdown",
   "metadata": {},
   "source": [
    "## Minimizing Residuals from Multiple Fits"
   ]
  },
  {
   "cell_type": "code",
   "execution_count": 206,
   "metadata": {
    "scrolled": false
   },
   "outputs": [],
   "source": [
    "from functools import partial\n",
    "\n",
    "def residual(p, x, y_data, y_data_2):\n",
    "    age_groups_error = var(agegroups, 100)\n",
    "    beds_in_NY_error = var(np.array([beds_in_NY]),100)\n",
    "    ret = Model(days, age_groups_error, beds_in_NY_error, **p)\n",
    "    resid1 = y_data - ret[6][x]\n",
    "    resid2 = y_data_2 - ret[3][x]\n",
    "    return abs(resid1) + abs(resid2)\n",
    "## Add error term \n",
    "def var(data,std):\n",
    "    error = np.random.normal(0, scale = std)\n",
    "    new_data = data + error\n",
    "    new_data[new_data<0] = 0 \n",
    "    return new_data\n",
    "\n",
    "## Track parameter value \n",
    "sd = 20\n",
    "param_estimate = []\n",
    "\n",
    "if outbreak_shift >= 0:\n",
    "    y_data_2 = np.concatenate((np.zeros(outbreak_shift), data2))\n",
    "else:\n",
    "    y_data_2 = y_data_2[-outbreak_shift:]\n",
    "\n",
    "pars = lmfit.Parameters()\n",
    "\n",
    "for kwarg, (init, mini, maxi) in params_init_min_max.items():\n",
    "    pars.add(str(kwarg), value=init, min=mini, max=maxi, vary=True)\n",
    "    \n",
    "for i in range(5):\n",
    "    y_data_error = var(y_data, sd)\n",
    "    y_data_2_error = var(y_data_2, sd)\n",
    "    function = partial(residual,x = x_data, y_data= y_data_error, y_data_2= y_data_2_error)\n",
    "    mini = lmfit.Minimizer(function, pars)\n",
    "    result = mini.minimize()\n",
    "    temp = []\n",
    "    for i,j in result.params.items():\n",
    "        values = j.value\n",
    "        temp.append(values)\n",
    "    param_estimate.append(temp)"
   ]
  },
  {
   "cell_type": "code",
   "execution_count": 207,
   "metadata": {
    "scrolled": true
   },
   "outputs": [
    {
     "data": {
      "text/html": [
       "<div>\n",
       "<style scoped>\n",
       "    .dataframe tbody tr th:only-of-type {\n",
       "        vertical-align: middle;\n",
       "    }\n",
       "\n",
       "    .dataframe tbody tr th {\n",
       "        vertical-align: top;\n",
       "    }\n",
       "\n",
       "    .dataframe thead th {\n",
       "        text-align: right;\n",
       "    }\n",
       "</style>\n",
       "<table border=\"1\" class=\"dataframe\">\n",
       "  <thead>\n",
       "    <tr style=\"text-align: right;\">\n",
       "      <th></th>\n",
       "      <th>R_0_start</th>\n",
       "      <th>k</th>\n",
       "      <th>x0</th>\n",
       "      <th>R_0_end</th>\n",
       "      <th>prob_I_to_C</th>\n",
       "      <th>prob_C_to_D</th>\n",
       "      <th>s</th>\n",
       "    </tr>\n",
       "  </thead>\n",
       "  <tbody>\n",
       "    <tr>\n",
       "      <th>0</th>\n",
       "      <td>2.967887</td>\n",
       "      <td>0.299757</td>\n",
       "      <td>91.683968</td>\n",
       "      <td>0.945228</td>\n",
       "      <td>0.049846</td>\n",
       "      <td>0.495681</td>\n",
       "      <td>0.002925</td>\n",
       "    </tr>\n",
       "    <tr>\n",
       "      <th>1</th>\n",
       "      <td>2.992156</td>\n",
       "      <td>0.273419</td>\n",
       "      <td>92.922385</td>\n",
       "      <td>1.006969</td>\n",
       "      <td>0.049974</td>\n",
       "      <td>0.501116</td>\n",
       "      <td>0.002750</td>\n",
       "    </tr>\n",
       "    <tr>\n",
       "      <th>2</th>\n",
       "      <td>3.000000</td>\n",
       "      <td>0.300000</td>\n",
       "      <td>90.000000</td>\n",
       "      <td>0.900000</td>\n",
       "      <td>0.050000</td>\n",
       "      <td>0.500000</td>\n",
       "      <td>0.003000</td>\n",
       "    </tr>\n",
       "    <tr>\n",
       "      <th>3</th>\n",
       "      <td>2.878094</td>\n",
       "      <td>0.297374</td>\n",
       "      <td>98.237311</td>\n",
       "      <td>1.017830</td>\n",
       "      <td>0.048563</td>\n",
       "      <td>0.492960</td>\n",
       "      <td>0.002892</td>\n",
       "    </tr>\n",
       "    <tr>\n",
       "      <th>4</th>\n",
       "      <td>3.026364</td>\n",
       "      <td>0.297449</td>\n",
       "      <td>95.342819</td>\n",
       "      <td>1.294528</td>\n",
       "      <td>0.049769</td>\n",
       "      <td>0.497721</td>\n",
       "      <td>0.002811</td>\n",
       "    </tr>\n",
       "  </tbody>\n",
       "</table>\n",
       "</div>"
      ],
      "text/plain": [
       "   R_0_start         k         x0   R_0_end  prob_I_to_C  prob_C_to_D  \\\n",
       "0   2.967887  0.299757  91.683968  0.945228     0.049846     0.495681   \n",
       "1   2.992156  0.273419  92.922385  1.006969     0.049974     0.501116   \n",
       "2   3.000000  0.300000  90.000000  0.900000     0.050000     0.500000   \n",
       "3   2.878094  0.297374  98.237311  1.017830     0.048563     0.492960   \n",
       "4   3.026364  0.297449  95.342819  1.294528     0.049769     0.497721   \n",
       "\n",
       "          s  \n",
       "0  0.002925  \n",
       "1  0.002750  \n",
       "2  0.003000  \n",
       "3  0.002892  \n",
       "4  0.002811  "
      ]
     },
     "execution_count": 207,
     "metadata": {},
     "output_type": "execute_result"
    }
   ],
   "source": [
    "pd.DataFrame(param_estimate, columns = result.params.keys())"
   ]
  },
  {
   "cell_type": "code",
   "execution_count": 147,
   "metadata": {},
   "outputs": [],
   "source": [
    "# ci = lmfit.conf_interval(mini, result)\n",
    "# lmfit.printfuncs.report_ci(ci)"
   ]
  },
  {
   "cell_type": "markdown",
   "metadata": {},
   "source": [
    "### Results from Residual Fitting"
   ]
  },
  {
   "cell_type": "code",
   "execution_count": 131,
   "metadata": {
    "scrolled": true
   },
   "outputs": [
    {
     "name": "stdout",
     "output_type": "stream",
     "text": [
      "Prediction for United States\n",
      "percentage going to ICU: 9.974454815564322; percentage dying in ICU: 16.683269836941903\n"
     ]
    },
    {
     "data": {
      "image/png": "[encoded data removed]",
      "text/plain": [
       "<Figure size 1440x288 with 1 Axes>"
      ]
     },
     "metadata": {
      "needs_background": "light"
     },
     "output_type": "display_data"
    },
    {
     "data": {
      "image/png": "[encoded data removed]",
      "text/plain": [
       "<Figure size 1440x288 with 3 Axes>"
      ]
     },
     "metadata": {
      "needs_background": "light"
     },
     "output_type": "display_data"
    }
   ],
   "source": [
    "full_days = 500\n",
    "first_date = np.datetime64(covid_data.Date.min()) - np.timedelta64(outbreak_shift,'D')\n",
    "x_ticks = pd.date_range(start=first_date, periods=full_days, freq=\"D\")\n",
    "print(\"Prediction for United States\")\n",
    "fit_model = Model(full_days, agegroup_lookup[\"New York\"], beds_states_lookup[\"New York\"], **result.params)\n",
    "plotter(*fit_model, x_ticks=x_ticks);"
   ]
  },
  {
   "cell_type": "code",
   "execution_count": 133,
   "metadata": {},
   "outputs": [
    {
     "data": {
      "text/plain": [
       "[<matplotlib.lines.Line2D at 0x123251590>]"
      ]
     },
     "execution_count": 133,
     "metadata": {},
     "output_type": "execute_result"
    },
    {
     "data": {
      "image/png": "[encoded data removed]",
      "text/plain": [
       "<Figure size 432x288 with 1 Axes>"
      ]
     },
     "metadata": {
      "needs_background": "light"
     },
     "output_type": "display_data"
    }
   ],
   "source": [
    "plt.plot(fit_model[3])"
   ]
  },
  {
   "cell_type": "markdown",
   "metadata": {},
   "source": [
    "## Regular Fitting to Line"
   ]
  },
  {
   "cell_type": "code",
   "execution_count": null,
   "metadata": {},
   "outputs": [],
   "source": [
    "def fitter(x, R_0_start, k, x0, R_0_end, prob_I_to_C, prob_C_to_D, s):\n",
    "    ret = Model(days, agegroups, beds_in_NY, R_0_start, k, x0, R_0_end, prob_I_to_C, prob_C_to_D, s)\n",
    "    return resid[6][x]"
   ]
  },
  {
   "cell_type": "code",
   "execution_count": 68,
   "metadata": {},
   "outputs": [],
   "source": [
    "mod = lmfit.Model(fitter)\n",
    "\n",
    "for kwarg, (init, mini, maxi) in params_init_min_max.items():\n",
    "    mod.set_param_hint(str(kwarg), value=init, min=mini, max=maxi, vary=True)\n",
    "\n",
    "params = mod.make_params()\n",
    "fit_method = \"least_squares\""
   ]
  },
  {
   "cell_type": "code",
   "execution_count": 69,
   "metadata": {},
   "outputs": [],
   "source": [
    "result = mod.fit(y_data, params, method=fit_method, x=x_data)"
   ]
  },
  {
   "cell_type": "code",
   "execution_count": 70,
   "metadata": {},
   "outputs": [
    {
     "data": {
      "image/png": "[encoded data removed]",
      "text/plain": [
       "<Figure size 432x288 with 1 Axes>"
      ]
     },
     "metadata": {
      "needs_background": "light"
     },
     "output_type": "display_data"
    }
   ],
   "source": [
    "result.plot_fit(datafmt=\"-\");"
   ]
  },
  {
   "cell_type": "markdown",
   "metadata": {},
   "source": [
    "result.best_values"
   ]
  }
 ],
 "metadata": {
  "kernelspec": {
   "display_name": "Python 3",
   "language": "python",
   "name": "python3"
  },
  "language_info": {
   "codemirror_mode": {
    "name": "ipython",
    "version": 3
   },
   "file_extension": ".py",
   "mimetype": "text/x-python",
   "name": "python",
   "nbconvert_exporter": "python",
   "pygments_lexer": "ipython3",
   "version": "3.7.5"
  }
 },
 "nbformat": 4,
 "nbformat_minor": 2
}
